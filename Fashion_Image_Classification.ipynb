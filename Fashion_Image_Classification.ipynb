{
  "nbformat": 4,
  "nbformat_minor": 0,
  "metadata": {
    "colab": {
      "provenance": [],
      "machine_shape": "hm",
      "authorship_tag": "ABX9TyMW14tghd4eequU0VJDfAE5",
      "include_colab_link": true
    },
    "kernelspec": {
      "name": "python3",
      "display_name": "Python 3"
    },
    "language_info": {
      "name": "python"
    }
  },
  "cells": [
    {
      "cell_type": "markdown",
      "metadata": {
        "id": "view-in-github",
        "colab_type": "text"
      },
      "source": [
        "<a href=\"https://colab.research.google.com/github/namita0210/Fashion-Image-CLassification/blob/main/Fashion_Image_Classification.ipynb\" target=\"_parent\"><img src=\"https://colab.research.google.com/assets/colab-badge.svg\" alt=\"Open In Colab\"/></a>"
      ]
    },
    {
      "cell_type": "markdown",
      "source": [
        "# Imports"
      ],
      "metadata": {
        "id": "S9kdsJQzwJmB"
      }
    },
    {
      "cell_type": "code",
      "execution_count": 22,
      "metadata": {
        "id": "i4Bx1lUNNrX9"
      },
      "outputs": [],
      "source": [
        "import os\n",
        "import torch\n",
        "from torch import nn\n",
        "from torch.utils.data import Dataset\n",
        "from torch.utils.data import DataLoader\n",
        "from torchvision import datasets,transforms\n",
        "from torchvision.transforms import ToTensor\n",
        "import torchvision.models as models\n",
        "import matplotlib.pyplot as plt\n",
        "import numpy as np"
      ]
    },
    {
      "cell_type": "markdown",
      "source": [
        "# Load training and Test Data"
      ],
      "metadata": {
        "id": "6mmqO94wwOWA"
      }
    },
    {
      "cell_type": "code",
      "source": [
        "training_data = datasets.FashionMNIST(\n",
        "    root=\"data\",\n",
        "    train=True,\n",
        "    download=True,\n",
        "    transform=ToTensor()\n",
        ")\n",
        "\n",
        "test_data = datasets.FashionMNIST(\n",
        "    root=\"data\",\n",
        "    train=False,\n",
        "    download=True,\n",
        "    transform=ToTensor()\n",
        ")"
      ],
      "metadata": {
        "id": "E34fQN3XIBV3"
      },
      "execution_count": 8,
      "outputs": []
    },
    {
      "cell_type": "markdown",
      "source": [
        "# Create Data Loader Iterable for train and test data"
      ],
      "metadata": {
        "id": "q_2DSjiswTR5"
      }
    },
    {
      "cell_type": "code",
      "source": [
        "batch_size = 64\n",
        "# Create data loaders.\n",
        "train_dataloader = DataLoader(training_data, batch_size=batch_size)\n",
        "test_dataloader = DataLoader(test_data, batch_size=batch_size)"
      ],
      "metadata": {
        "id": "sQLAsXBnhgrA"
      },
      "execution_count": 9,
      "outputs": []
    },
    {
      "cell_type": "code",
      "source": [
        "for X,y in test_dataloader:\n",
        "    print(f\"Shape of X [N, C, H, W]: {X.shape}\")\n",
        "    print(f\"Shape of y: {y.shape} {y.dtype}\")\n",
        "    break"
      ],
      "metadata": {
        "colab": {
          "base_uri": "https://localhost:8080/"
        },
        "id": "bij24WIWhnw_",
        "outputId": "b450ae05-f35a-4733-b366-69fc61c34e13"
      },
      "execution_count": 11,
      "outputs": [
        {
          "output_type": "stream",
          "name": "stdout",
          "text": [
            "Shape of X [N, C, H, W]: torch.Size([64, 1, 28, 28])\n",
            "Shape of y: torch.Size([64]) torch.int64\n"
          ]
        }
      ]
    },
    {
      "cell_type": "markdown",
      "source": [
        "# Check gpu availability"
      ],
      "metadata": {
        "id": "0K-MBms_wbG6"
      }
    },
    {
      "cell_type": "code",
      "source": [
        "device =('cuda' if torch.cuda.is_available() else 'mps' if torch.backends.mps.is_available() else 'cpu')\n",
        "print(f'Using {device} device')"
      ],
      "metadata": {
        "colab": {
          "base_uri": "https://localhost:8080/"
        },
        "id": "ugExHHIGOJdj",
        "outputId": "c0dc1000-ddd5-4681-c87e-cec8309070f3"
      },
      "execution_count": 12,
      "outputs": [
        {
          "output_type": "stream",
          "name": "stdout",
          "text": [
            "Using cpu device\n"
          ]
        }
      ]
    },
    {
      "cell_type": "markdown",
      "source": [
        "# Define Neural Network Architecture --> nn.Module"
      ],
      "metadata": {
        "id": "0JjFen_ZweZA"
      }
    },
    {
      "cell_type": "code",
      "source": [
        "class NeuralNetwork(nn.Module):\n",
        "    def __init__(self):\n",
        "        super().__init__()\n",
        "        self.flatten = nn.Flatten()\n",
        "        self.linear_relu_stack = nn.Sequential(\n",
        "            nn.Linear(28*28, 512),\n",
        "            nn.ReLU(),\n",
        "            nn.Linear(512, 512),\n",
        "            nn.ReLU(),\n",
        "            nn.Linear(512, 10),\n",
        "        )\n",
        "\n",
        "    def forward(self, x):\n",
        "        x = self.flatten(x)\n",
        "        logits = self.linear_relu_stack(x)\n",
        "        return logits\n",
        "\n",
        "model = NeuralNetwork().to(device)\n",
        "print(model)"
      ],
      "metadata": {
        "id": "r9uogtM-txXr",
        "colab": {
          "base_uri": "https://localhost:8080/"
        },
        "outputId": "afff51ab-8110-436a-a72a-d27266b92333"
      },
      "execution_count": 13,
      "outputs": [
        {
          "output_type": "stream",
          "name": "stdout",
          "text": [
            "NeuralNetwork(\n",
            "  (flatten): Flatten(start_dim=1, end_dim=-1)\n",
            "  (linear_relu_stack): Sequential(\n",
            "    (0): Linear(in_features=784, out_features=512, bias=True)\n",
            "    (1): ReLU()\n",
            "    (2): Linear(in_features=512, out_features=512, bias=True)\n",
            "    (3): ReLU()\n",
            "    (4): Linear(in_features=512, out_features=10, bias=True)\n",
            "  )\n",
            ")\n"
          ]
        }
      ]
    },
    {
      "cell_type": "markdown",
      "source": [
        "# Set Loss function and Optimizer"
      ],
      "metadata": {
        "id": "z1IFTVXcwmeK"
      }
    },
    {
      "cell_type": "code",
      "source": [
        "learning_rate = 1e-3\n",
        "# Initialize the loss function\n",
        "loss_fn = nn.CrossEntropyLoss()\n",
        "optimizer = torch.optim.SGD(model.parameters(), lr=learning_rate)"
      ],
      "metadata": {
        "id": "aWAiag4xHFyO"
      },
      "execution_count": 14,
      "outputs": []
    },
    {
      "cell_type": "markdown",
      "source": [
        "# Define Training and Testing Loop"
      ],
      "metadata": {
        "id": "XxAFecYxwrP9"
      }
    },
    {
      "cell_type": "code",
      "source": [
        "def train_loop(dataloader, model, loss_fn, optimizer):\n",
        "    size = len(dataloader.dataset)\n",
        "    # Set the model to training mode - important for batch normalization and dropout layers\n",
        "    # Unnecessary in this situation but added for best practices\n",
        "    model.train()\n",
        "    for batch, (X, y) in enumerate(dataloader):\n",
        "        # Compute prediction and loss\n",
        "        pred = model(X)\n",
        "        loss = loss_fn(pred, y)\n",
        "\n",
        "        # Backpropagation\n",
        "        loss.backward()\n",
        "        optimizer.step()\n",
        "        optimizer.zero_grad()\n",
        "\n",
        "        if batch % 100 == 0:\n",
        "            loss, current = loss.item(), (batch + 1) * len(X)\n",
        "            print(f\"loss: {loss:>7f}  [{current:>5d}/{size:>5d}]\")\n",
        "\n",
        "\n",
        "def test_loop(dataloader, model, loss_fn):\n",
        "    # Set the model to evaluation mode - important for batch normalization and dropout layers\n",
        "    # Unnecessary in this situation but added for best practices\n",
        "    model.eval()\n",
        "    size = len(dataloader.dataset)\n",
        "    num_batches = len(dataloader)\n",
        "    test_loss, correct = 0, 0\n",
        "\n",
        "    # Evaluating the model with torch.no_grad() ensures that no gradients are computed during test mode\n",
        "    # also serves to reduce unnecessary gradient computations and memory usage for tensors with requires_grad=True\n",
        "    with torch.no_grad():\n",
        "        for X, y in dataloader:\n",
        "            pred = model(X)\n",
        "            test_loss += loss_fn(pred, y).item()\n",
        "            correct += (pred.argmax(1) == y).type(torch.float).sum().item()\n",
        "\n",
        "    test_loss /= num_batches\n",
        "    correct /= size\n",
        "    print(f\"Test Error: \\n Accuracy: {(100*correct):>0.1f}%, Avg loss: {test_loss:>8f} \\n\")"
      ],
      "metadata": {
        "id": "BSYDAwxzHSdb"
      },
      "execution_count": 15,
      "outputs": []
    },
    {
      "cell_type": "markdown",
      "source": [
        "# Perform train and test on actual data from the dataset over a specified # of epochs"
      ],
      "metadata": {
        "id": "RnvINEsywyig"
      }
    },
    {
      "cell_type": "code",
      "source": [
        "epochs = 10\n",
        "for t in range(epochs):\n",
        "    print(f\"Epoch {t+1}\\n-------------------------------\")\n",
        "    train_loop(train_dataloader, model, loss_fn, optimizer)\n",
        "    test_loop(test_dataloader, model, loss_fn)\n",
        "print(\"Done!\")"
      ],
      "metadata": {
        "colab": {
          "base_uri": "https://localhost:8080/"
        },
        "id": "k_4wmLELHJIS",
        "outputId": "10b4d219-ff5f-420a-eb34-9d8ec06884fd"
      },
      "execution_count": 16,
      "outputs": [
        {
          "output_type": "stream",
          "name": "stdout",
          "text": [
            "Epoch 1\n",
            "-------------------------------\n",
            "loss: 2.308509  [   64/60000]\n",
            "loss: 2.289287  [ 6464/60000]\n",
            "loss: 2.271737  [12864/60000]\n",
            "loss: 2.270911  [19264/60000]\n",
            "loss: 2.232635  [25664/60000]\n",
            "loss: 2.219944  [32064/60000]\n",
            "loss: 2.235966  [38464/60000]\n",
            "loss: 2.201029  [44864/60000]\n",
            "loss: 2.199496  [51264/60000]\n",
            "loss: 2.168530  [57664/60000]\n",
            "Test Error: \n",
            " Accuracy: 41.3%, Avg loss: 2.158939 \n",
            "\n",
            "Epoch 2\n",
            "-------------------------------\n",
            "loss: 2.172640  [   64/60000]\n",
            "loss: 2.157214  [ 6464/60000]\n",
            "loss: 2.101030  [12864/60000]\n",
            "loss: 2.122090  [19264/60000]\n",
            "loss: 2.047435  [25664/60000]\n",
            "loss: 2.007870  [32064/60000]\n",
            "loss: 2.048027  [38464/60000]\n",
            "loss: 1.967215  [44864/60000]\n",
            "loss: 1.972789  [51264/60000]\n",
            "loss: 1.901362  [57664/60000]\n",
            "Test Error: \n",
            " Accuracy: 55.6%, Avg loss: 1.895600 \n",
            "\n",
            "Epoch 3\n",
            "-------------------------------\n",
            "loss: 1.927282  [   64/60000]\n",
            "loss: 1.896892  [ 6464/60000]\n",
            "loss: 1.778283  [12864/60000]\n",
            "loss: 1.828236  [19264/60000]\n",
            "loss: 1.685665  [25664/60000]\n",
            "loss: 1.656463  [32064/60000]\n",
            "loss: 1.684621  [38464/60000]\n",
            "loss: 1.580320  [44864/60000]\n",
            "loss: 1.595105  [51264/60000]\n",
            "loss: 1.498827  [57664/60000]\n",
            "Test Error: \n",
            " Accuracy: 61.8%, Avg loss: 1.514234 \n",
            "\n",
            "Epoch 4\n",
            "-------------------------------\n",
            "loss: 1.573030  [   64/60000]\n",
            "loss: 1.546053  [ 6464/60000]\n",
            "loss: 1.391356  [12864/60000]\n",
            "loss: 1.471225  [19264/60000]\n",
            "loss: 1.323496  [25664/60000]\n",
            "loss: 1.338439  [32064/60000]\n",
            "loss: 1.350908  [38464/60000]\n",
            "loss: 1.273188  [44864/60000]\n",
            "loss: 1.299338  [51264/60000]\n",
            "loss: 1.209780  [57664/60000]\n",
            "Test Error: \n",
            " Accuracy: 63.8%, Avg loss: 1.237657 \n",
            "\n",
            "Epoch 5\n",
            "-------------------------------\n",
            "loss: 1.307047  [   64/60000]\n",
            "loss: 1.299884  [ 6464/60000]\n",
            "loss: 1.129800  [12864/60000]\n",
            "loss: 1.240683  [19264/60000]\n",
            "loss: 1.099953  [25664/60000]\n",
            "loss: 1.137886  [32064/60000]\n",
            "loss: 1.155683  [38464/60000]\n",
            "loss: 1.091286  [44864/60000]\n",
            "loss: 1.125341  [51264/60000]\n",
            "loss: 1.049868  [57664/60000]\n",
            "Test Error: \n",
            " Accuracy: 65.0%, Avg loss: 1.073467 \n",
            "\n",
            "Epoch 6\n",
            "-------------------------------\n",
            "loss: 1.136279  [   64/60000]\n",
            "loss: 1.149990  [ 6464/60000]\n",
            "loss: 0.963222  [12864/60000]\n",
            "loss: 1.102000  [19264/60000]\n",
            "loss: 0.967975  [25664/60000]\n",
            "loss: 1.008009  [32064/60000]\n",
            "loss: 1.039902  [38464/60000]\n",
            "loss: 0.978872  [44864/60000]\n",
            "loss: 1.015318  [51264/60000]\n",
            "loss: 0.953036  [57664/60000]\n",
            "Test Error: \n",
            " Accuracy: 66.2%, Avg loss: 0.970090 \n",
            "\n",
            "Epoch 7\n",
            "-------------------------------\n",
            "loss: 1.019938  [   64/60000]\n",
            "loss: 1.054409  [ 6464/60000]\n",
            "loss: 0.850847  [12864/60000]\n",
            "loss: 1.011221  [19264/60000]\n",
            "loss: 0.886352  [25664/60000]\n",
            "loss: 0.918241  [32064/60000]\n",
            "loss: 0.965487  [38464/60000]\n",
            "loss: 0.906131  [44864/60000]\n",
            "loss: 0.940344  [51264/60000]\n",
            "loss: 0.888759  [57664/60000]\n",
            "Test Error: \n",
            " Accuracy: 67.3%, Avg loss: 0.900254 \n",
            "\n",
            "Epoch 8\n",
            "-------------------------------\n",
            "loss: 0.935052  [   64/60000]\n",
            "loss: 0.988355  [ 6464/60000]\n",
            "loss: 0.770901  [12864/60000]\n",
            "loss: 0.947371  [19264/60000]\n",
            "loss: 0.832063  [25664/60000]\n",
            "loss: 0.853076  [32064/60000]\n",
            "loss: 0.913166  [38464/60000]\n",
            "loss: 0.857272  [44864/60000]\n",
            "loss: 0.886264  [51264/60000]\n",
            "loss: 0.842279  [57664/60000]\n",
            "Test Error: \n",
            " Accuracy: 68.6%, Avg loss: 0.849919 \n",
            "\n",
            "Epoch 9\n",
            "-------------------------------\n",
            "loss: 0.869930  [   64/60000]\n",
            "loss: 0.938884  [ 6464/60000]\n",
            "loss: 0.711383  [12864/60000]\n",
            "loss: 0.899733  [19264/60000]\n",
            "loss: 0.792944  [25664/60000]\n",
            "loss: 0.803871  [32064/60000]\n",
            "loss: 0.873242  [38464/60000]\n",
            "loss: 0.822907  [44864/60000]\n",
            "loss: 0.845303  [51264/60000]\n",
            "loss: 0.806618  [57664/60000]\n",
            "Test Error: \n",
            " Accuracy: 69.8%, Avg loss: 0.811545 \n",
            "\n",
            "Epoch 10\n",
            "-------------------------------\n",
            "loss: 0.817500  [   64/60000]\n",
            "loss: 0.899329  [ 6464/60000]\n",
            "loss: 0.665118  [12864/60000]\n",
            "loss: 0.862823  [19264/60000]\n",
            "loss: 0.762856  [25664/60000]\n",
            "loss: 0.765784  [32064/60000]\n",
            "loss: 0.840597  [38464/60000]\n",
            "loss: 0.797339  [44864/60000]\n",
            "loss: 0.813044  [51264/60000]\n",
            "loss: 0.777818  [57664/60000]\n",
            "Test Error: \n",
            " Accuracy: 71.0%, Avg loss: 0.780784 \n",
            "\n",
            "Done!\n"
          ]
        }
      ]
    },
    {
      "cell_type": "markdown",
      "source": [
        "# Save the model"
      ],
      "metadata": {
        "id": "PlXZcoMmw-cA"
      }
    },
    {
      "cell_type": "code",
      "source": [
        "torch.save(model.state_dict(), 'model_weights.pth')"
      ],
      "metadata": {
        "id": "_XY9m4uBHNeI"
      },
      "execution_count": 17,
      "outputs": []
    },
    {
      "cell_type": "markdown",
      "source": [
        "# Analyzing the data - Post classification training of the model"
      ],
      "metadata": {
        "id": "s5d8O9XtzpjP"
      }
    },
    {
      "cell_type": "code",
      "source": [
        "labels_map = {\n",
        "    0: \"T-Shirt\",\n",
        "    1: \"Trouser\",\n",
        "    2: \"Pullover\",\n",
        "    3: \"Dress\",\n",
        "    4: \"Coat\",\n",
        "    5: \"Sandal\",\n",
        "    6: \"Shirt\",\n",
        "    7: \"Sneaker\",\n",
        "    8: \"Bag\",\n",
        "    9: \"Ankle Boot\",\n",
        "}\n"
      ],
      "metadata": {
        "id": "_PQ6p7iIIGXm"
      },
      "execution_count": 18,
      "outputs": []
    },
    {
      "cell_type": "code",
      "source": [
        "figure = plt.figure(figsize=(8, 8))\n",
        "cols, rows = 3, 3\n",
        "for i in range(1, cols * rows + 1):\n",
        "    sample_idx = torch.randint(len(training_data), size=(1,)).item()\n",
        "    img, label = training_data[sample_idx]\n",
        "    figure.add_subplot(rows, cols, i)\n",
        "    plt.title(labels_map[label])\n",
        "    plt.axis(\"off\")\n",
        "    plt.imshow(np.transpose(img.numpy(), (1, 2, 0)))\n",
        "plt.show()"
      ],
      "metadata": {
        "id": "6-4JPcS3xa5g",
        "outputId": "4233e531-8c3f-4035-affb-e31da2799dbc",
        "colab": {
          "base_uri": "https://localhost:8080/",
          "height": 675
        }
      },
      "execution_count": 23,
      "outputs": [
        {
          "output_type": "display_data",
          "data": {
            "text/plain": [
              "<Figure size 800x800 with 9 Axes>"
            ],
            "image/png": "[encoded data removed]"
          },
          "metadata": {}
        }
      ]
    },
    {
      "cell_type": "markdown",
      "source": [
        "# Evaluating the trained and loaded model on a single item"
      ],
      "metadata": {
        "id": "n1r0Y_lB5KWv"
      }
    },
    {
      "cell_type": "code",
      "source": [
        "classes = [\n",
        "    \"T-shirt/top\",\n",
        "    \"Trouser\",\n",
        "    \"Pullover\",\n",
        "    \"Dress\",\n",
        "    \"Coat\",\n",
        "    \"Sandal\",\n",
        "    \"Shirt\",\n",
        "    \"Sneaker\",\n",
        "    \"Bag\",\n",
        "    \"Ankle boot\",\n",
        "]\n",
        "\n",
        "model.eval()\n",
        "x, y = test_data[0][0], test_data[0][1]\n",
        "with torch.no_grad():\n",
        "    x = x.to(device)\n",
        "    pred = model(x)\n",
        "    predicted, actual = classes[pred[0].argmax(0)], classes[y]\n",
        "    print(f'Predicted: \"{predicted}\", Actual: \"{actual}\"')"
      ],
      "metadata": {
        "id": "t_UrzYe65Rar",
        "outputId": "3f66ed04-402c-4026-8979-49eab6117d80",
        "colab": {
          "base_uri": "https://localhost:8080/"
        }
      },
      "execution_count": 24,
      "outputs": [
        {
          "output_type": "stream",
          "name": "stdout",
          "text": [
            "Predicted: \"Ankle boot\", Actual: \"Ankle boot\"\n"
          ]
        }
      ]
    },
    {
      "cell_type": "code",
      "source": [
        "pred[0]"
      ],
      "metadata": {
        "id": "fE5DkqKi7fmz",
        "outputId": "70d73b5d-e011-4bae-dde8-e54737c1a1da",
        "colab": {
          "base_uri": "https://localhost:8080/"
        }
      },
      "execution_count": 28,
      "outputs": [
        {
          "output_type": "execute_result",
          "data": {
            "text/plain": [
              "tensor([-3.7112, -4.2735, -2.5789, -2.7629, -1.8203,  4.8115, -2.2352,  4.4710,\n",
              "         2.4283,  5.1945])"
            ]
          },
          "metadata": {},
          "execution_count": 28
        }
      ]
    },
    {
      "cell_type": "code",
      "source": [
        "pred[0].argmax(0)"
      ],
      "metadata": {
        "id": "VdOCgDaa7SJL",
        "outputId": "55d662c9-8aea-4388-d228-2a5cf48752bd",
        "colab": {
          "base_uri": "https://localhost:8080/"
        }
      },
      "execution_count": 27,
      "outputs": [
        {
          "output_type": "execute_result",
          "data": {
            "text/plain": [
              "tensor(9)"
            ]
          },
          "metadata": {},
          "execution_count": 27
        }
      ]
    },
    {
      "cell_type": "code",
      "source": [],
      "metadata": {
        "id": "oOHGoP2WJvgu"
      },
      "execution_count": null,
      "outputs": []
    }
  ]
}